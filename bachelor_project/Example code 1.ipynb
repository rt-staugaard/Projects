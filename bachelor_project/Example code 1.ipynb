{
 "cells": [
  {
   "cell_type": "code",
   "execution_count": 1,
   "metadata": {},
   "outputs": [],
   "source": [
    "import numpy as np\n",
    "import matplotlib.pyplot as plt\n",
    "import HNL_complete as HNL\n",
    "import pylhe\n",
    "\n",
    "events_mass_10 = list(pylhe.readLHE('HNL_M (10).lhe')) #contains 10^5 samples\n",
    "events_mass_70 = list(pylhe.readLHE('HNL_M (70).lhe')) #contains 5*10^4 samples"
   ]
  },
  {
   "cell_type": "markdown",
   "metadata": {},
   "source": [
    "# Data sorting:"
   ]
  },
  {
   "cell_type": "code",
   "execution_count": 2,
   "metadata": {},
   "outputs": [],
   "source": [
    "Sample_size = 5*10**4\n",
    "\n",
    "#Making first data set\n",
    "Data_set_1 = HNL.sort_data(events_mass_10,Sample_size)\n",
    "\n",
    "#Making second data set\n",
    "Data_set_7 = HNL.sort_data(events_mass_70,Sample_size)\n",
    "\n",
    "\n",
    "Learn_size1 = int(np.ceil(len(Data_set_1[2])*0.8))\n",
    "Learn_size2 = int(np.ceil(len(Data_set_7[2])*0.8))\n",
    "#Combining them\n",
    "\n",
    "Train_data = np.concatenate((Data_set_1[0][:,0:Learn_size1].T,Data_set_7[0][:,0:Learn_size2].T))\n",
    "Train_M = (np.concatenate((Data_set_1[1][0:Learn_size1],Data_set_7[1][0:Learn_size2])))\n",
    "Test_data = np.concatenate((Data_set_1[0][:,Learn_size1:].T,Data_set_7[0][:,Learn_size2:].T))\n",
    "\n",
    "Test_M = (np.concatenate((Data_set_1[1][Learn_size1:],Data_set_7[1][Learn_size2:])))\n",
    "Train_Energies = np.concatenate((Data_set_1[2][0:Learn_size1],Data_set_7[2][0:Learn_size2]))\n",
    "Test_Energies = np.concatenate((Data_set_1[2][Learn_size1:],Data_set_7[2][Learn_size2:]))"
   ]
  },
  {
   "cell_type": "code",
   "execution_count": 3,
   "metadata": {},
   "outputs": [
    {
     "name": "stdout",
     "output_type": "stream",
     "text": [
      "(61514, 13)\n",
      "[1389.54130034  108.82939252 1605.83288415 ...  495.25103656 1704.81258395\n",
      "  197.94662291]\n"
     ]
    },
    {
     "data": {
      "text/plain": [
       "[<matplotlib.lines.Line2D at 0x1e8687e9388>]"
      ]
     },
     "execution_count": 3,
     "metadata": {},
     "output_type": "execute_result"
    },
    {
     "data": {
      "image/png": "[encoded data removed]",
      "text/plain": [
       "<Figure size 432x288 with 1 Axes>"
      ]
     },
     "metadata": {
      "needs_background": "light"
     },
     "output_type": "display_data"
    }
   ],
   "source": [
    "print(Train_data.shape)\n",
    "print(Train_Energies)\n",
    "\n",
    "plt.plot((Train_data[:,11]))"
   ]
  },
  {
   "cell_type": "code",
   "execution_count": 16,
   "metadata": {},
   "outputs": [],
   "source": [
    "from sklearn.neural_network import MLPRegressor\n",
    "\n",
    "X_train, y_train = (Train_data.T).T,Train_M \n",
    "\n",
    "X_test, y_test = (Test_data.T).T, Test_M\n",
    "\n",
    "Model1 = MLPRegressor(hidden_layer_sizes=(100),activation='relu',max_iter = 100\\\n",
    "                     , learning_rate_init= 0.001, solver = 'adam',batch_size = 200, random_state= 3,warm_start = True,tol = 10**(-8))"
   ]
  },
  {
   "cell_type": "code",
   "execution_count": 18,
   "metadata": {},
   "outputs": [
    {
     "data": {
      "text/plain": [
       "[0.0059224217868125905,\n",
       " 0.00011128869601861173,\n",
       " 6.581694777829883e-05,\n",
       " 5.329001773868464e-05,\n",
       " 4.453929672917367e-05,\n",
       " 3.776463179649592e-05,\n",
       " 3.480959111349642e-05,\n",
       " 3.302385335311524e-05,\n",
       " 3.131103352167236e-05,\n",
       " 3.018875739395746e-05,\n",
       " 2.8960318632790346e-05,\n",
       " 2.808239777245151e-05,\n",
       " 2.7313514039507328e-05,\n",
       " 2.6545172009655652e-05,\n",
       " 2.6122541682662197e-05,\n",
       " 2.522064943158348e-05,\n",
       " 2.4609931425907012e-05,\n",
       " 2.4333184484769904e-05,\n",
       " 2.3222935937018316e-05,\n",
       " 2.29082338583623e-05,\n",
       " 2.2647506338752687e-05,\n",
       " 2.257705460771291e-05,\n",
       " 2.2202761872568833e-05,\n",
       " 2.178653536512081e-05,\n",
       " 2.1504701616893554e-05,\n",
       " 2.1140704562050315e-05,\n",
       " 2.13030951774706e-05,\n",
       " 2.0466618954986674e-05,\n",
       " 2.085058718478152e-05,\n",
       " 2.0421604923353372e-05,\n",
       " 2.0229426429982484e-05,\n",
       " 1.9549178364636868e-05,\n",
       " 1.984640521011827e-05,\n",
       " 1.9265477937483873e-05,\n",
       " 1.961552123777279e-05,\n",
       " 1.8806878771162262e-05,\n",
       " 1.9014294800097722e-05,\n",
       " 1.8909823291454245e-05,\n",
       " 1.8885604200864047e-05,\n",
       " 1.8260556027618748e-05,\n",
       " 1.8661527606597788e-05,\n",
       " 1.818967064773293e-05,\n",
       " 1.7718523614677498e-05,\n",
       " 1.766417522451063e-05,\n",
       " 1.705830401000863e-05,\n",
       " 1.7507497298984128e-05,\n",
       " 1.7395177858263608e-05,\n",
       " 1.7238006101982523e-05,\n",
       " 1.743976601931735e-05,\n",
       " 1.7082152818206792e-05,\n",
       " 1.686520001085837e-05,\n",
       " 1.7054337963559617e-05,\n",
       " 1.6844026269821598e-05,\n",
       " 1.649508421206862e-05,\n",
       " 1.693947493150694e-05,\n",
       " 1.6472992574644883e-05,\n",
       " 1.6986925879028302e-05,\n",
       " 1.6547130876226722e-05,\n",
       " 1.703186474929094e-05,\n",
       " 1.6180851048019465e-05,\n",
       " 1.6113087022319048e-05,\n",
       " 1.6569163551108522e-05,\n",
       " 1.587649327381813e-05,\n",
       " 1.5885930687278622e-05,\n",
       " 1.5779297081462338e-05,\n",
       " 1.5983271362668355e-05,\n",
       " 1.608092376422608e-05,\n",
       " 1.6042095799696324e-05,\n",
       " 1.6155830823223357e-05,\n",
       " 1.5925527812422855e-05,\n",
       " 1.591636863976564e-05,\n",
       " 1.566826798615995e-05,\n",
       " 1.582597645299876e-05,\n",
       " 1.5693978235417252e-05,\n",
       " 1.5938146519749877e-05,\n",
       " 1.612130361411252e-05,\n",
       " 1.5611103156561855e-05,\n",
       " 1.5341176143908234e-05,\n",
       " 1.5439995124511554e-05,\n",
       " 1.5493758130982596e-05,\n",
       " 1.5502075983353647e-05,\n",
       " 1.5791738231196102e-05,\n",
       " 1.5145490209661185e-05,\n",
       " 1.5173332876397025e-05,\n",
       " 1.5542294704141778e-05,\n",
       " 1.5315700485732697e-05,\n",
       " 1.5592993839936365e-05,\n",
       " 1.4998266747379943e-05,\n",
       " 1.5680216401659154e-05,\n",
       " 1.5159780423173751e-05,\n",
       " 1.489671824532093e-05,\n",
       " 1.517533494118141e-05,\n",
       " 1.5581846213893667e-05,\n",
       " 1.497736723557447e-05,\n",
       " 1.5145196930429507e-05,\n",
       " 1.507875343714607e-05,\n",
       " 1.4940497187228997e-05,\n",
       " 1.5378480181306576e-05,\n",
       " 1.4863541395321323e-05,\n",
       " 1.5182388927066498e-05,\n",
       " 1.745008902850334e-05,\n",
       " 1.4393074833884126e-05,\n",
       " 1.4791345769851044e-05,\n",
       " 1.4656145274013164e-05,\n",
       " 1.4716307015441274e-05,\n",
       " 1.4499997155406478e-05,\n",
       " 1.53614528857423e-05,\n",
       " 1.4817887886780678e-05,\n",
       " 1.4652567650516459e-05,\n",
       " 1.5007137168737491e-05,\n",
       " 1.4630400124311199e-05,\n",
       " 1.4857873687126217e-05,\n",
       " 1.5015314853594947e-05]"
      ]
     },
     "execution_count": 18,
     "metadata": {},
     "output_type": "execute_result"
    }
   ],
   "source": [
    "Model1.fit(X_train,y_train)\n",
    "\n",
    "Model1.loss_curve_"
   ]
  },
  {
   "cell_type": "code",
   "execution_count": 19,
   "metadata": {},
   "outputs": [
    {
     "name": "stdout",
     "output_type": "stream",
     "text": [
      "[0.6532157  0.48810924 0.24955196 ... 0.10696037 0.52184632 0.32497777]\n",
      "[79.58080735 79.3465307  77.24704113 ... 79.57587103 82.8607461\n",
      " 80.39837239]\n"
     ]
    },
    {
     "data": {
      "image/png": "[encoded data removed]",
      "text/plain": [
       "<Figure size 432x288 with 1 Axes>"
      ]
     },
     "metadata": {
      "needs_background": "light"
     },
     "output_type": "display_data"
    },
    {
     "data": {
      "text/plain": [
       "<Figure size 432x288 with 0 Axes>"
      ]
     },
     "metadata": {},
     "output_type": "display_data"
    }
   ],
   "source": [
    "ypred1 = Model1.predict(Test_data) \n",
    "bins = np.linspace(5, 90, 50)\n",
    "\n",
    "plt.hist((ypred1)*Test_Energies,bins,label='10', histtype='step',density = True)\n",
    "plt.figure()\n",
    "print(ypred1)\n",
    "print(Test_Energies*Test_M)"
   ]
  },
  {
   "cell_type": "code",
   "execution_count": 20,
   "metadata": {},
   "outputs": [],
   "source": [
    "p1 = [Data_set_1[3][0][Learn_size1:],Data_set_1[3][1][Learn_size1:],Data_set_1[3][2][Learn_size1:],Data_set_1[3][3][Learn_size1:]]\n",
    "p2 = [Data_set_1[4][0][Learn_size1:],Data_set_1[4][1][Learn_size1:],Data_set_1[4][2][Learn_size1:],Data_set_1[4][3][Learn_size1:]]\n",
    "q =[Data_set_1[5][0][Learn_size1:],Data_set_1[5][1][Learn_size1:],Data_set_1[5][2][Learn_size1:],Data_set_1[5][3][Learn_size1:]]\n",
    "\n",
    "\n",
    "p1_7 = [Data_set_7[3][0][Learn_size2:],Data_set_7[3][1][Learn_size2:],Data_set_7[3][2][Learn_size2:],Data_set_7[3][3][Learn_size2:]]\n",
    "p2_7 = [Data_set_7[4][0][Learn_size2:],Data_set_7[4][1][Learn_size2:],Data_set_7[4][2][Learn_size2:],Data_set_7[4][3][Learn_size2:]]\n",
    "q_7 =[Data_set_7[5][0][Learn_size2:],Data_set_7[5][1][Learn_size2:],Data_set_7[5][2][Learn_size2:],Data_set_7[5][3][Learn_size2:]]\n",
    "\n"
   ]
  },
  {
   "cell_type": "code",
   "execution_count": 21,
   "metadata": {},
   "outputs": [
    {
     "name": "stderr",
     "output_type": "stream",
     "text": [
      "C:\\Users\\rasat\\Desktop\\Python LHE\\HNL_complete.py:71: RuntimeWarning: invalid value encountered in sqrt\n",
      "  pLn = (-a*pL+ np.sqrt(d))/(pL**2-E**2)\n",
      "C:\\Users\\rasat\\Desktop\\Python LHE\\HNL_complete.py:72: RuntimeWarning: invalid value encountered in sqrt\n",
      "  alt_pLn = (-a*pL- np.sqrt(d))/(pL**2-E**2)\n",
      "C:\\Users\\rasat\\Desktop\\Python LHE\\HNL_complete.py:75: RuntimeWarning: invalid value encountered in sqrt\n",
      "  massn = np.sqrt(m**2 - 2*(pw[0]*p1[0]-pw[3]*p1[3]))\n",
      "C:\\Users\\rasat\\Desktop\\Python LHE\\HNL_complete.py:76: RuntimeWarning: invalid value encountered in sqrt\n",
      "  alt_massn = np.sqrt(m**2 - 2*(alt_pw[0]*p1[0]-alt_pw[3]*p1[3]))\n"
     ]
    }
   ],
   "source": [
    "nlist = np.array([])\n",
    "y = HNL.find(p1,p2,q,(((ypred1)*Test_Energies)[:int(0.2*Learn_size1/0.8)]))\n",
    "pT = (p1[1]+p2[1]+q[1])**2+(p1[2]+p2[2]+q[2])**2\n",
    "E = p1[0]+p2[0]+q[0]\n",
    "ew1 = E+ np.sqrt(y[0][0]**2+pT)\n",
    "ew2 = E + np.sqrt(y[1][0]**2+pT)\n",
    "\n",
    "pl = y[0][0]\n",
    "\n",
    "\n",
    "def func(ew1,ew2,pz1,pz2,p1):\n",
    "    y1 = ((ew1+p1[0])**2-p1[1]**2-p1[2]**2-(pz1+p1[3])**2)\n",
    "    y2 = ((ew2+p1[0])**2-p1[1]**2-p1[2]**2-(pz2+p1[3])**2)\n",
    "    return [y1,y2]\n",
    "\n",
    "pwL1 =y[0][0] + p1[3]+p2[3]+q[3]\n",
    "pwL2 = y[1][0]+ p1[3]+p2[3]+q[3]\n",
    "z = func(ew1,ew2,pwL1,pwL2,p1)\n",
    "\n",
    "for i in range(len(y[0][1])):\n",
    "    if z[0][i] <= z[1][i]:\n",
    "        nlist = np.append(nlist,y[1][1][i])\n",
    "    else:\n",
    "        nlist = np.append(nlist,y[0][1][i])\n",
    "\n",
    "        \n",
    "y2 = HNL.find(p1_7,p2_7,q_7,((ypred1)*Test_Energies)[int(0.2*Learn_size1/0.8):])       \n",
    "pl2 = y2[0][0]\n",
    "\n",
    "pT = (p1_7[1]+p2_7[1]+q_7[1])**2+(p1_7[2]+p2_7[2]+q_7[2])**2\n",
    "E = p1_7[0]+p2_7[0]+q_7[0]\n",
    "ew1 = E+ np.sqrt(y2[0][0]**2+pT)\n",
    "ew2 = E + np.sqrt(y2[1][0]**2+pT)\n",
    "pwL1 = y2[0][0] + p1_7[3]+p2_7[3]+q_7[3]\n",
    "pwL2 = y2[1][0]+ p1_7[3]+p2_7[3]+q_7[3]\n",
    "z = func(ew1,ew2,pwL1,pwL2,p1_7)\n",
    "\n",
    "for i in range(len(y2[0][1])):\n",
    "    if z[0][i] <= z[1][i]:\n",
    "        nlist = np.append(nlist,y2[1][1][i])\n",
    "    else:\n",
    "        nlist = np.append(nlist,y2[0][1][i])\n",
    "\n"
   ]
  },
  {
   "cell_type": "code",
   "execution_count": 22,
   "metadata": {},
   "outputs": [
    {
     "data": {
      "text/plain": [
       "<Figure size 432x288 with 0 Axes>"
      ]
     },
     "execution_count": 22,
     "metadata": {},
     "output_type": "execute_result"
    },
    {
     "data": {
      "image/png": "[encoded data removed]",
      "text/plain": [
       "<Figure size 432x288 with 1 Axes>"
      ]
     },
     "metadata": {
      "needs_background": "light"
     },
     "output_type": "display_data"
    },
    {
     "data": {
      "text/plain": [
       "<Figure size 432x288 with 0 Axes>"
      ]
     },
     "metadata": {},
     "output_type": "display_data"
    }
   ],
   "source": [
    "bins = np.linspace(5, 100, 80)\n",
    "\n",
    "plt.hist(nlist,bins)\n",
    "plt.figure()"
   ]
  }
 ],
 "metadata": {
  "kernelspec": {
   "display_name": "Python 3 (ipykernel)",
   "language": "python",
   "name": "python3"
  },
  "language_info": {
   "codemirror_mode": {
    "name": "ipython",
    "version": 3
   },
   "file_extension": ".py",
   "mimetype": "text/x-python",
   "name": "python",
   "nbconvert_exporter": "python",
   "pygments_lexer": "ipython3",
   "version": "3.10.11"
  }
 },
 "nbformat": 4,
 "nbformat_minor": 4
}
