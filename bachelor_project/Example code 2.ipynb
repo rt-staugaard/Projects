{
 "cells": [
  {
   "cell_type": "code",
   "execution_count": 1,
   "metadata": {},
   "outputs": [],
   "source": [
    "import numpy as np\n",
    "import matplotlib.pyplot as plt\n",
    "import HNL_newtry as HNL\n",
    "import pylhe\n",
    "\n",
    "events_mass_10 = list(pylhe.readLHE('HNL_M (10).lhe')) #contains 10^5 samples\n",
    "events_mass_20 = list(pylhe.readLHE('HNL_M (20).lhe'))\n",
    "events_mass_30 = list(pylhe.readLHE('HNL_M (30).lhe'))\n",
    "events_mass_40 = list(pylhe.readLHE('HNL_M (40).lhe')) \n",
    "events_mass_50 = list(pylhe.readLHE('HNL_M (50).lhe'))\n",
    "events_mass_60 = list(pylhe.readLHE('HNL_M (60).lhe'))\n",
    "events_mass_70 = list(pylhe.readLHE('HNL_M (70).lhe')) #contains 5*10^4 samples"
   ]
  },
  {
   "cell_type": "code",
   "execution_count": 2,
   "metadata": {},
   "outputs": [],
   "source": [
    "Sample_size = 5*10**4\n",
    "\n",
    "#Making first data set\n",
    "Data_params_1 = np.array(HNL.sort_data(events_mass_10,Sample_size))\n",
    "\n",
    "Learn_size = int(np.ceil(len(Data_params_1[0])))\n",
    "s_Data_params_1 =Data_params_1[:,0:Learn_size]\n",
    "\n",
    "Data_params_2 = np.array(HNL.sort_data(events_mass_20,Sample_size))\n",
    "s_Data_params_2 =Data_params_2[:,0:Learn_size]\n",
    "\n",
    "Data_params_3 = np.array(HNL.sort_data(events_mass_30,Sample_size))\n",
    "s_Data_params_3 =Data_params_3[:,0:Learn_size]\n",
    "\n",
    "Data_params_4 = np.array(HNL.sort_data(events_mass_40,Sample_size))\n",
    "s_Data_params_4 =Data_params_4[:,0:Learn_size]\n",
    "\n",
    "Data_params_5 = np.array(HNL.sort_data(events_mass_50,Sample_size))\n",
    "s_Data_params_5 =Data_params_5[:,0:Learn_size]\n",
    "\n",
    "Data_params_6 = np.array(HNL.sort_data(events_mass_60,Sample_size))\n",
    "s_Data_params_6 =Data_params_6[:,0:Learn_size]\n",
    "\n",
    "Data_params_7 = np.array(HNL.sort_data(events_mass_70,Sample_size))\n",
    "s_Data_params_7 =Data_params_7[:,0:Learn_size]\n",
    "\n",
    "#Combining them\n",
    "#s_data = s_Data_params_1.T\n"
   ]
  },
  {
   "cell_type": "code",
   "execution_count": 22,
   "metadata": {},
   "outputs": [],
   "source": [
    "s_data = np.concatenate((s_Data_params_1.T,s_Data_params_2.T,s_Data_params_3.T,s_Data_params_4.T\\\n",
    "                         ,s_Data_params_5.T,s_Data_params_6.T,s_Data_params_7.T))\n",
    "\n",
    "p1 = np.array([s_data.T[0],s_data.T[1],s_data.T[2],s_data.T[3]])\n",
    "p2 = np.array([s_data.T[4],s_data.T[5],s_data.T[6],s_data.T[7]])\n",
    "q = np.array([s_data.T[8],s_data.T[9],s_data.T[10],s_data.T[11]])\n",
    "n = np.array([s_data.T[12],s_data.T[13],s_data.T[14],s_data.T[15]])\n",
    "m = s_data.T[16]\n",
    "mw = s_data.T[17]\n",
    "ppi = HNL.find_decay(p1,p2,q)[0]\n",
    "ptaun = HNL.find_decay(p1,p2,q)[1]"
   ]
  },
  {
   "cell_type": "code",
   "execution_count": 72,
   "metadata": {},
   "outputs": [],
   "source": [
    "def trm(p1,p2):\n",
    "    ET1 = np.sqrt(p1[1]**2+p1[2]**2)\n",
    "    ET2 = np.sqrt(p2[1]**2+p2[2]**2)\n",
    "    return np.sqrt((ET1+ET2)**2-(p1[1]+p2[1])**2-(p1[2]+p2[2])**2)\n",
    "\n",
    "def prapid(p):\n",
    "    with np.errstate(divide='ignore'):\n",
    "        pAbs = np.sqrt(p[1]**2 + p[2]**2 + p[3]**2)\n",
    "        return np.arctanh(p[3] / pAbs)\n",
    "\n",
    "def make_set(p1,p2,q,n,N):\n",
    "    list = np.zeros([5,N])\n",
    "    E = p1[0]+p2[0]+q[0]\n",
    "    pT = (p1[1]+p2[1]+q[1])**2+(p1[2]+p2[2]+q[2])**2\n",
    "    nd = np.array([-p1[1],-p1[2],q[3]+p2[3]+n[3]])\n",
    "    nu = np.sqrt(nd[0]**2+nd[1]**2+nd[2]**2)\n",
    "    vn = np.array([-p1[1],-p1[2],p2[3]+q[3]+n[3]])/np.sqrt(p1[1]**2+p1[2]**2+(p2[3]+q[3]+n[3])**2)\n",
    "    pn = np.array([p2[1]+q[1],p2[2]+q[2],p2[3]+q[3]])   \n",
    "    cross = np.array([vn[2]*pn[1]-vn[1]*pn[2],vn[0]*pn[2]-vn[2]*pn[0],vn[1]*pn[0]-vn[0]*pn[1]])\n",
    "    q1 = np.sqrt(cross[0]**2+cross[1]**2+cross[2]**2)\n",
    "    q2 = pn[0]*vn[0]+pn[1]*vn[1]+pn[2]*vn[2] \n",
    "    pz = p1[1]*vn[0]+p1[2]*vn[1]+p1[3]*vn[2]\n",
    "    E1 = p1[0]\n",
    "    E2 = p2[0]+q[0]\n",
    "    B = (pz+q2)/(E1+E2)\n",
    "    mpt =np.array([0,-p1[1]-p2[1]-q[1],-p1[2]-p2[2]-q[2]])\n",
    "    nf = np.array([0,-p1[1]/nu,-p1[2]/nu,(q[3]+p2[3]+n[3])/nu])\n",
    "    y = HNL.find2(p1,p2,q,82)\n",
    "    \n",
    "    list[:][0] = y[0][1]/(p1[0]+p2[0]+q[0])\n",
    "    list[:][1] = y[1][1]/(p1[0]+p2[0]+q[0])\n",
    "    list[:][2] = (q[3]+p2[3]+y[0][0])/np.sqrt(p1[1]**2+p1[2]**2+(q[3]+p2[3]+y[0][0])**2)\n",
    "    list[:][3] = (q[3]+p2[3]+y[1][0])/np.sqrt(p1[1]**2+p1[2]**2+(q[3]+p2[3]+y[1][0])**2)\n",
    "    list[:][4] = (q[3]+p2[3]+n[3])/nu\n",
    "\n",
    "    return list\n",
    "\n"
   ]
  },
  {
   "cell_type": "code",
   "execution_count": 47,
   "metadata": {},
   "outputs": [
    {
     "name": "stdout",
     "output_type": "stream",
     "text": [
      "(194070,)\n"
     ]
    }
   ],
   "source": [
    "print(x_train[:,4].shape)\n",
    "\n",
    "for i in range(len(x_train[:,4])):\n",
    "    if np.isnan(x_train[i,3]) == True:\n",
    "        print(i)"
   ]
  },
  {
   "cell_type": "code",
   "execution_count": 83,
   "metadata": {},
   "outputs": [],
   "source": [
    "from sklearn.model_selection import train_test_split\n",
    "from sklearn.neural_network import MLPRegressor\n",
    "\n",
    "set1 = np.array(make_set(p1,p2,q,n,len(p1[0]))).T\n",
    "\n",
    "x_train, x_test,y_train, y_test, E_train, E_test = train_test_split(set1,m/(p1[0]+p2[0]+q[0]),(p1[0]+p2[0]+q[0]),train_size = 0.8)\n",
    "\n",
    "#(1400,200)\n",
    "Model = MLPRegressor(hidden_layer_sizes=(1000),activation='relu',max_iter = 100,alpha =5.0e-06,verbose=True\\\n",
    "                     , learning_rate_init= 0.001, solver = 'adam',batch_size = 1000, random_state= 4,warm_start = True,tol = 10**(-8))\n"
   ]
  },
  {
   "cell_type": "code",
   "execution_count": 84,
   "metadata": {},
   "outputs": [
    {
     "name": "stdout",
     "output_type": "stream",
     "text": [
      "Iteration 1, loss = 0.00361739\n",
      "Iteration 2, loss = 0.00039009\n",
      "Iteration 3, loss = 0.00031123\n",
      "Iteration 4, loss = 0.00027524\n",
      "Iteration 5, loss = 0.00025225\n",
      "Iteration 6, loss = 0.00023582\n",
      "Iteration 7, loss = 0.00022252\n",
      "Iteration 8, loss = 0.00021201\n",
      "Iteration 9, loss = 0.00020877\n",
      "Iteration 10, loss = 0.00020202\n",
      "Iteration 11, loss = 0.00019134\n",
      "Iteration 12, loss = 0.00018820\n",
      "Iteration 13, loss = 0.00018588\n",
      "Iteration 14, loss = 0.00018406\n",
      "Iteration 15, loss = 0.00018251\n",
      "Iteration 16, loss = 0.00017660\n",
      "Iteration 17, loss = 0.00017627\n",
      "Iteration 18, loss = 0.00017764\n",
      "Iteration 19, loss = 0.00017349\n",
      "Iteration 20, loss = 0.00017029\n",
      "Iteration 21, loss = 0.00017634\n",
      "Iteration 22, loss = 0.00016955\n",
      "Iteration 23, loss = 0.00016378\n",
      "Iteration 24, loss = 0.00016684\n",
      "Iteration 25, loss = 0.00016324\n",
      "Iteration 26, loss = 0.00016296\n",
      "Iteration 27, loss = 0.00015807\n",
      "Iteration 28, loss = 0.00015765\n",
      "Iteration 29, loss = 0.00016051\n",
      "Iteration 30, loss = 0.00016662\n",
      "Iteration 31, loss = 0.00015797\n",
      "Iteration 32, loss = 0.00015004\n",
      "Iteration 33, loss = 0.00015176\n",
      "Iteration 34, loss = 0.00015414\n",
      "Iteration 35, loss = 0.00015480\n",
      "Iteration 36, loss = 0.00015199\n",
      "Iteration 37, loss = 0.00014889\n",
      "Iteration 38, loss = 0.00014497\n",
      "Iteration 39, loss = 0.00014938\n",
      "Iteration 40, loss = 0.00014568\n",
      "Iteration 41, loss = 0.00014381\n",
      "Iteration 42, loss = 0.00014656\n",
      "Iteration 43, loss = 0.00014583\n",
      "Iteration 44, loss = 0.00014143\n",
      "Iteration 45, loss = 0.00014339\n",
      "Iteration 46, loss = 0.00014063\n",
      "Iteration 47, loss = 0.00014400\n",
      "Iteration 48, loss = 0.00013716\n",
      "Iteration 49, loss = 0.00013952\n",
      "Iteration 50, loss = 0.00014275\n",
      "Iteration 51, loss = 0.00014084\n",
      "Iteration 52, loss = 0.00014059\n",
      "Iteration 53, loss = 0.00013578\n",
      "Iteration 54, loss = 0.00013541\n",
      "Iteration 55, loss = 0.00013305\n",
      "Iteration 56, loss = 0.00013881\n",
      "Iteration 57, loss = 0.00018234\n",
      "Iteration 58, loss = 0.00014253\n",
      "Iteration 59, loss = 0.00013565\n",
      "Iteration 60, loss = 0.00013980\n",
      "Iteration 61, loss = 0.00013335\n",
      "Iteration 62, loss = 0.00013442\n"
     ]
    },
    {
     "name": "stderr",
     "output_type": "stream",
     "text": [
      "C:\\Users\\rasat\\anaconda3\\lib\\site-packages\\sklearn\\neural_network\\_multilayer_perceptron.py:573: UserWarning: Training interrupted by user.\n",
      "  warnings.warn(\"Training interrupted by user.\")\n"
     ]
    },
    {
     "data": {
      "text/plain": [
       "MLPRegressor(activation='relu', alpha=5e-06, batch_size=1000, beta_1=0.9,\n",
       "             beta_2=0.999, early_stopping=False, epsilon=1e-08,\n",
       "             hidden_layer_sizes=1000, learning_rate='constant',\n",
       "             learning_rate_init=0.001, max_fun=15000, max_iter=100,\n",
       "             momentum=0.9, n_iter_no_change=10, nesterovs_momentum=True,\n",
       "             power_t=0.5, random_state=4, shuffle=True, solver='adam',\n",
       "             tol=1e-08, validation_fraction=0.1, verbose=True, warm_start=True)"
      ]
     },
     "execution_count": 84,
     "metadata": {},
     "output_type": "execute_result"
    }
   ],
   "source": [
    "Model.fit(x_train,y_train)"
   ]
  },
  {
   "cell_type": "code",
   "execution_count": 82,
   "metadata": {},
   "outputs": [
    {
     "data": {
      "text/plain": [
       "<Figure size 432x288 with 0 Axes>"
      ]
     },
     "execution_count": 82,
     "metadata": {},
     "output_type": "execute_result"
    },
    {
     "data": {
      "image/png": "[encoded data removed]",
      "text/plain": [
       "<Figure size 432x288 with 1 Axes>"
      ]
     },
     "metadata": {
      "needs_background": "light"
     },
     "output_type": "display_data"
    },
    {
     "data": {
      "text/plain": [
       "<Figure size 432x288 with 0 Axes>"
      ]
     },
     "metadata": {},
     "output_type": "display_data"
    }
   ],
   "source": [
    "plt.hist(Model.predict(x_test)*E_test,bins=100)\n",
    "plt.figure()"
   ]
  },
  {
   "cell_type": "code",
   "execution_count": null,
   "metadata": {},
   "outputs": [],
   "source": []
  }
 ],
 "metadata": {
  "kernelspec": {
   "display_name": "Python 3",
   "language": "python",
   "name": "python3"
  },
  "language_info": {
   "codemirror_mode": {
    "name": "ipython",
    "version": 3
   },
   "file_extension": ".py",
   "mimetype": "text/x-python",
   "name": "python",
   "nbconvert_exporter": "python",
   "pygments_lexer": "ipython3",
   "version": "3.7.6"
  }
 },
 "nbformat": 4,
 "nbformat_minor": 4
}
